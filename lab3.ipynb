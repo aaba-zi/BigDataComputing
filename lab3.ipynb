{
  "nbformat": 4,
  "nbformat_minor": 0,
  "metadata": {
    "colab": {
      "name": "lab3",
      "provenance": [],
      "collapsed_sections": []
    },
    "kernelspec": {
      "name": "python3",
      "display_name": "Python 3"
    },
    "language_info": {
      "name": "python"
    }
  },
  "cells": [
    {
      "cell_type": "markdown",
      "source": [
        "# name： Ziling Huang\n",
        "# username: zhu51"
      ],
      "metadata": {
        "id": "rqQg6svsZky9"
      }
    },
    {
      "cell_type": "markdown",
      "source": [
        "# Lab 3: Association Rules (Recommendations)\n",
        "Note: You will need to download the browsing.txt file, you can use this in colab:\n",
        "!gdown 'https://drive.google.com/uc?export=download&confirm=t&id=1Ijyh14a0Lh9sjwQUR6PE1TB2phjAZP4P'\n",
        "\n",
        "Association Rules are frequently used for Market Basket Analysis (MBA) by retailers to understand the purchase behavior of their customers. This information can be then used for many different purposes such as recommendations, cross-selling and up-selling of products, sales promotions, loyalty programs, store design, discount plans and many others.\n",
        "\t\t\t\t\t\n",
        "Evaluation of item sets: Once you have found the frequent itemsets of a dataset, you need to choose a subset of them that are significant and interesting. Commonly used metrics for measuring significance and interest for selecting rules for recommendations are: \n",
        "\n",
        "Confidence, conf(I -> j) = support(I u j) / support(I)\n",
        "Interest, interest(I -> j) = conf(I -> j) - Pr[j]\n",
        "\n",
        "Application in product recommendations: The action or practice of selling additional products or services to existing customers is called cross-selling. Giving product recommendations is one of the examples of cross-selling that are frequently used by online retailers. One simple method to give product recommendations is to recommend products that are frequently browsed together by the customers. Suppose we want to recommend new products to the customer based on the products they have already browsed online. "
      ],
      "metadata": {
        "id": "vK0agWAnGjDV"
      }
    },
    {
      "cell_type": "code",
      "source": [
        "# start the Spark context\n",
        "!apt-get install openjdk-8-jdk-headless -qq > /dev/null\n",
        "!pip install -q pyspark\n",
        "\n",
        "\n",
        "import os\n",
        "os.environ['PYTHONHASHSEED']=\"0\"\n",
        "os.environ[\"PYSPARK_PYTHON\"]=\"python3\"\n",
        "os.environ[\"JAVA_HOME\"]=\"/usr/lib/jvm/java-8-openjdk-amd64/\"\n",
        "# A few additional libraries we will need\n",
        "from math import sqrt\n",
        "\n",
        "import pyspark\n",
        "from pyspark import SparkConf, SparkContext\n",
        "from pyspark.sql import *\n",
        "\n",
        "try:\n",
        "  conf = SparkConf().setMaster(\"local[*]\").set(\"spark.executor.memory\", \"1g\").set(\"spark.executorEnv.PYTHONHASHSEED\",\"0\").set(\"spark.ui.port\", \"4050\")\n",
        "  sc = SparkContext(conf = conf)\n",
        "  spark = SparkSession.builder.getOrCreate()\n",
        "except ValueError:\n",
        "  #it's ok if the server is already started\n",
        "  pass\n",
        "\n",
        "def dbg(x):\n",
        "  \"\"\" A helper function to print debugging information on RDDs \"\"\"\n",
        "  if isinstance(x, pyspark.RDD):\n",
        "    print([(t[0], list(t[1]) if \n",
        "            isinstance(t[1], pyspark.resultiterable.ResultIterable) else t[1])\n",
        "           if isinstance(t, tuple) else t\n",
        "           for t in x.take(100)])\n",
        "  else:\n",
        "    print(x)\n",
        "    \n",
        "\n",
        "import unittest\n",
        "Test = unittest.TestCase()"
      ],
      "metadata": {
        "colab": {
          "base_uri": "https://localhost:8080/"
        },
        "id": "OeUlpllMHvR9",
        "outputId": "4a3e604f-d4e5-4b9a-e06b-7db1c1f74767"
      },
      "execution_count": 2,
      "outputs": [
        {
          "output_type": "stream",
          "name": "stdout",
          "text": [
            "\u001b[K     |████████████████████████████████| 281.4 MB 38 kB/s \n",
            "\u001b[K     |████████████████████████████████| 198 kB 54.9 MB/s \n",
            "\u001b[?25h  Building wheel for pyspark (setup.py) ... \u001b[?25l\u001b[?25hdone\n"
          ]
        }
      ]
    },
    {
      "cell_type": "code",
      "source": [
        "!gdown 'https://drive.google.com/uc?export=download&confirm=t&id=1Ijyh14a0Lh9sjwQUR6PE1TB2phjAZP4P'"
      ],
      "metadata": {
        "colab": {
          "base_uri": "https://localhost:8080/"
        },
        "id": "dAZ3xgagHQG3",
        "outputId": "241e949e-61e3-4d2a-cdf6-85dbd51a8f8e"
      },
      "execution_count": 3,
      "outputs": [
        {
          "output_type": "stream",
          "name": "stdout",
          "text": [
            "Downloading...\n",
            "From: https://drive.google.com/uc?export=download&confirm=t&id=1Ijyh14a0Lh9sjwQUR6PE1TB2phjAZP4P\n",
            "To: /content/browsing.txt\n",
            "100% 3.46M/3.46M [00:00<00:00, 18.2MB/s]\n"
          ]
        }
      ]
    },
    {
      "cell_type": "markdown",
      "source": [
        "# Question 1: Find products which are frequently browsed together [45 points total]\n",
        "Write a Spark map-reduce program to find products which are frequently browsed together in the given browsing.txt. Each line represents a browsing session of a customer (a “basket”). On each line, each string of 8 characters represents the ID of an item browsed during that session. The items are separated by spaces. For example, this first line of browsing.txt:\n",
        "\n",
        "FRO11987 ELE17451 ELE89019 SNA90258 GRO99222 \n",
        "\n",
        "represents a browsing session (a “basket”) with 5 item IDs.\n"
      ],
      "metadata": {
        "id": "Uay29v6rFd-o"
      }
    },
    {
      "cell_type": "markdown",
      "source": [
        "1a) [15 points for correct top 5 most frequent pairs] Implement a naive Spark approach to finding frequest product pairs with support = 100 (i.e. product pairs need to occur together at least 100 times to be considered frequent):\n",
        "Create an RDD from the lines in the file\n"
      ],
      "metadata": {
        "id": "cqeL8MbRFlA6"
      }
    },
    {
      "cell_type": "code",
      "source": [
        "# load the file into a distributed dataset of lines\n",
        "browsing = sc.textFile(\"browsing.txt\")"
      ],
      "metadata": {
        "id": "_lm-93HdNcfB"
      },
      "execution_count": 4,
      "outputs": []
    },
    {
      "cell_type": "code",
      "source": [
        "print(browsing.collect()[100])"
      ],
      "metadata": {
        "colab": {
          "base_uri": "https://localhost:8080/"
        },
        "id": "dWxvxIUxPYnL",
        "outputId": "a77078a9-53d1-409f-ef18-1df6bc438992"
      },
      "execution_count": 57,
      "outputs": [
        {
          "output_type": "stream",
          "name": "stdout",
          "text": [
            "SNA94736 ELE12792 FRO28730 GRO35122 FRO95943 FRO16725 GRO22635 SNA64512 \n"
          ]
        }
      ]
    },
    {
      "cell_type": "markdown",
      "source": [
        "2.Map each line into a list of all pairs of items in the basket. \n",
        "Hint: this is an N^2 operation and can be done by writing a function with a nested loop that processes a single basket and then mapping this function over the RDD\n",
        "Hint: you can ensure that a pair is counted regardless of whether it appears in a basket as …,A,...,B,... or …,B,...,A,... by outputting it as tuple(sorted((item1, item2))) which would output (A,B) for both cases"
      ],
      "metadata": {
        "id": "mwnTh4CMFoeu"
      }
    },
    {
      "cell_type": "code",
      "source": [
        "from itertools import combinations\n",
        "combination = (browsing.flatMap(lambda line: [sorted(value) for value in combinations(line.split(), 2)]))"
      ],
      "metadata": {
        "id": "EBjUuHVyPljN"
      },
      "execution_count": 5,
      "outputs": []
    },
    {
      "cell_type": "code",
      "source": [
        "j = [(1, \"a\"), (2, \"q\")]\n",
        "for i in j:\n",
        "  print(i)\n",
        "  for a in i:\n",
        "    print(a)"
      ],
      "metadata": {
        "colab": {
          "base_uri": "https://localhost:8080/"
        },
        "id": "MbjhpkH8YiIv",
        "outputId": "2fb193bd-b3f0-4fb3-d7d9-8a00dd184b6a"
      },
      "execution_count": 61,
      "outputs": [
        {
          "output_type": "stream",
          "name": "stdout",
          "text": [
            "(1, 'a')\n",
            "1\n",
            "a\n",
            "(2, 'q')\n",
            "2\n",
            "q\n"
          ]
        }
      ]
    },
    {
      "cell_type": "markdown",
      "source": [
        "3.Reduce the pairs into pair counts"
      ],
      "metadata": {
        "id": "nNV_yxYmFvGk"
      }
    },
    {
      "cell_type": "code",
      "source": [
        "pairsCount = combination.map(lambda a: (tuple(a), 1)).reduceByKey(lambda a, b: a + b).filter(lambda a: a[1]>=100).sortBy(lambda a: a[1], False)"
      ],
      "metadata": {
        "id": "FS7MDyz0YCKx"
      },
      "execution_count": 6,
      "outputs": []
    },
    {
      "cell_type": "markdown",
      "source": [
        "4.Take the top 5 most frequent pairs and display them, you should get:\n",
        "\n",
        "[(('DAI62779', 'ELE17451'), 1592), (('FRO40251', 'SNA80324'), 1412), (('DAI75645', 'FRO40251'), 1254), (('FRO40251', 'GRO85051'), 1213), (('DAI62779', 'GRO73461'), 1139)]\n"
      ],
      "metadata": {
        "id": "5e6RCdHQFxVE"
      }
    },
    {
      "cell_type": "code",
      "source": [
        "topFive = pairsCount.take(5)\n",
        "dbg(topFive)"
      ],
      "metadata": {
        "colab": {
          "base_uri": "https://localhost:8080/"
        },
        "id": "KNCyK975QS6I",
        "outputId": "beeede50-767f-41c2-c909-110cc8e9280f"
      },
      "execution_count": 7,
      "outputs": [
        {
          "output_type": "stream",
          "name": "stdout",
          "text": [
            "[(('DAI62779', 'ELE17451'), 1592), (('FRO40251', 'SNA80324'), 1412), (('DAI75645', 'FRO40251'), 1254), (('FRO40251', 'GRO85051'), 1213), (('DAI62779', 'GRO73461'), 1139)]\n"
          ]
        }
      ]
    },
    {
      "cell_type": "markdown",
      "source": [
        "1b) [30 points total] The naive approach can be slow and disk/memory intensive for large sets of browsing data. Improve this by applying the two step A-priori algorithm."
      ],
      "metadata": {
        "id": "_WfVsuthF4Cf"
      }
    },
    {
      "cell_type": "markdown",
      "source": [
        "1. Create an RDD from the lines in the file"
      ],
      "metadata": {
        "id": "NKc2igvAF5bJ"
      }
    },
    {
      "cell_type": "markdown",
      "source": [
        "2. [15 points for correct top 5 most frequent items] Map each line into its items and then perform an item count on the entire RDD (this is step 1 of the A-priori algorithm). If you take the top 5 most frequent items you should get:\n",
        "[('DAI62779', 6667), ('FRO40251', 3881), ('ELE17451', 3875), ('GRO73461', 3602), ('SNA80324', 3044)]\n"
      ],
      "metadata": {
        "id": "q2mo6k_NF7QS"
      }
    },
    {
      "cell_type": "code",
      "source": [
        "counts = browsing.flatMap(lambda line:[a for a in line.split()]).map(lambda a: (a, 1)).reduceByKey(lambda a, b: a+b).sortBy(lambda a:a[1], False)\n",
        "dbg(counts)"
      ],
      "metadata": {
        "colab": {
          "base_uri": "https://localhost:8080/"
        },
        "id": "yM7VpS1ljvZf",
        "outputId": "e5c3beb8-debe-4e3b-fdd6-8709d99c4906"
      },
      "execution_count": 11,
      "outputs": [
        {
          "output_type": "stream",
          "name": "stdout",
          "text": [
            "[('DAI62779', 6667), ('FRO40251', 3881), ('ELE17451', 3875), ('GRO73461', 3602), ('SNA80324', 3044), ('ELE32164', 2851), ('DAI75645', 2736), ('SNA45677', 2455), ('FRO31317', 2330), ('DAI85309', 2293), ('ELE26917', 2292), ('FRO80039', 2233), ('GRO21487', 2115), ('SNA99873', 2083), ('GRO59710', 2004), ('GRO71621', 1920), ('FRO85978', 1918), ('GRO30386', 1840), ('ELE74009', 1816), ('GRO56726', 1784), ('DAI63921', 1773), ('GRO46854', 1756), ('ELE66600', 1713), ('DAI83733', 1712), ('FRO32293', 1702), ('ELE66810', 1697), ('SNA55762', 1646), ('DAI22177', 1627), ('FRO78087', 1531), ('ELE99737', 1516), ('GRO94758', 1489), ('ELE34057', 1489), ('FRO35904', 1436), ('FRO53271', 1420), ('SNA93860', 1407), ('SNA90094', 1390), ('GRO38814', 1352), ('ELE56788', 1345), ('GRO61133', 1321), ('DAI88807', 1316), ('ELE74482', 1316), ('ELE59935', 1311), ('SNA96271', 1295), ('DAI43223', 1290), ('ELE91337', 1289), ('GRO15017', 1275), ('DAI31081', 1261), ('GRO81087', 1220), ('DAI22896', 1219), ('GRO85051', 1214), ('ELE92920', 1197), ('GRO44993', 1193), ('ELE14480', 1147), ('DAI91290', 1138), ('SNA55952', 1094), ('SNA72163', 1090), ('DAI35347', 1060), ('GRO64900', 1046), ('SNA62128', 1023), ('DAI42493', 1001), ('DAI55148', 975), ('DAI55911', 974), ('GRO24246', 944), ('DAI92600', 935), ('FRO16142', 931), ('FRO66272', 927), ('FRO92261', 915), ('GRO99222', 906), ('SNA59903', 891), ('GRO69543', 882), ('DAI95741', 878), ('SNA88283', 865), ('DAI87448', 858), ('GRO32086', 856), ('GRO88511', 855), ('GRO35122', 852), ('SNA40784', 850), ('FRO92469', 849), ('GRO38983', 839), ('ELE53126', 837), ('GRO36567', 832), ('ELE12792', 832), ('DAI83948', 830), ('DAI48891', 825), ('ELE20847', 818), ('ELE11111', 811), ('SNA38068', 811), ('SNA95666', 804), ('ELE37048', 802), ('DAI38969', 785), ('SNA20554', 777), ('FRO19221', 773), ('FRO99783', 764), ('FRO75586', 762), ('FRO79022', 751), ('ELE86561', 735), ('FRO73056', 728), ('ELE62598', 717), ('GRO88324', 715), ('SNA18336', 709)]\n"
          ]
        }
      ]
    },
    {
      "cell_type": "markdown",
      "source": [
        "  3.Filter the frequent items and keep only those with >= 100 occurrences. Collect these as a map and broadcast this map to every Spark worker (see the Spark documentation for broadcast)."
      ],
      "metadata": {
        "id": "09gt4txQGAe-"
      }
    },
    {
      "cell_type": "code",
      "source": [
        "filterCount = dict(counts.filter(lambda a:a[1] > 100).collect())\n",
        "filterCount = sc.broadcast(filterCount)"
      ],
      "metadata": {
        "id": "yoHgiqcFtivF"
      },
      "execution_count": 23,
      "outputs": []
    },
    {
      "cell_type": "markdown",
      "source": [
        "4.We can now begin Step 2 of the A-priori algorithm. This now follows the same as the naive algorithm except that when we map each line into a list of all pairs of items in the basket we first check to ensure that both items in the pair occur in the broadcast map from Step 1 of the A-priori algorithm. This significantly decreases the number of pairs that we output from this step."
      ],
      "metadata": {
        "id": "lLeKAaFcGC8r"
      }
    },
    {
      "cell_type": "code",
      "source": [
        "def getAprior(lists):\n",
        "  Aprior = []\n",
        "  for i in range(0, len(lists)):\n",
        "    first = lists[i]\n",
        "    if first in filterCount.value.keys():\n",
        "      for j in range(i+1, len(lists)):\n",
        "        second = lists[j]\n",
        "        if second in filterCount.value.keys():\n",
        "          Aprior.append(tuple(sorted((first, second))))\n",
        "  return Aprior"
      ],
      "metadata": {
        "id": "WS68DwUdEPWA"
      },
      "execution_count": 24,
      "outputs": []
    },
    {
      "cell_type": "markdown",
      "source": [
        "5.Reduce the pairs into pair counts"
      ],
      "metadata": {
        "id": "wD62VwJ6GFsG"
      }
    },
    {
      "cell_type": "code",
      "source": [
        "pairs = browsing.flatMap(lambda line: [(value, 1) for value in getAprior(line.split())]).reduceByKey(lambda a,b: a+b).sortBy(lambda a:a[1], False)"
      ],
      "metadata": {
        "id": "vLYOJiUHGNph"
      },
      "execution_count": 27,
      "outputs": []
    },
    {
      "cell_type": "markdown",
      "source": [
        "6.[15 points for correct top 5 most frequent pairs] Take the top 5 most frequent pairs and display them, you should still get:\n",
        "\n",
        "[(('DAI62779', 'ELE17451'), 1592), (('FRO40251', 'SNA80324'), 1412), (('DAI75645', 'FRO40251'), 1254), (('FRO40251', 'GRO85051'), 1213), (('DAI62779', 'GRO73461'), 1139)]\n"
      ],
      "metadata": {
        "id": "E0e_KXFVGHNS"
      }
    },
    {
      "cell_type": "code",
      "source": [
        "dbg(pairs)"
      ],
      "metadata": {
        "colab": {
          "base_uri": "https://localhost:8080/"
        },
        "id": "UtxifS95WwMn",
        "outputId": "2fca0187-420b-437b-b061-61e81bf0efa7"
      },
      "execution_count": 28,
      "outputs": [
        {
          "output_type": "stream",
          "name": "stdout",
          "text": [
            "[(('DAI62779', 'ELE17451'), 1592), (('FRO40251', 'SNA80324'), 1412), (('DAI75645', 'FRO40251'), 1254), (('FRO40251', 'GRO85051'), 1213), (('DAI62779', 'GRO73461'), 1139), (('DAI75645', 'SNA80324'), 1130), (('DAI62779', 'FRO40251'), 1070), (('DAI62779', 'SNA80324'), 923), (('DAI62779', 'DAI85309'), 918), (('ELE32164', 'GRO59710'), 911), (('FRO40251', 'GRO73461'), 882), (('DAI62779', 'DAI75645'), 882), (('DAI62779', 'ELE92920'), 877), (('FRO40251', 'FRO92469'), 835), (('DAI62779', 'ELE32164'), 832), (('DAI75645', 'GRO73461'), 712), (('DAI43223', 'ELE32164'), 711), (('DAI62779', 'GRO30386'), 709), (('ELE17451', 'FRO40251'), 697), (('DAI85309', 'ELE99737'), 659), (('DAI62779', 'ELE26917'), 650), (('GRO21487', 'GRO73461'), 631), (('DAI62779', 'SNA45677'), 604), (('ELE17451', 'SNA80324'), 597), (('DAI62779', 'GRO71621'), 595), (('DAI62779', 'SNA55762'), 593), (('DAI62779', 'DAI83733'), 586), (('ELE17451', 'GRO73461'), 580), (('GRO73461', 'SNA80324'), 562), (('DAI62779', 'GRO59710'), 561), (('DAI62779', 'FRO80039'), 550), (('DAI75645', 'ELE17451'), 547), (('DAI62779', 'SNA93860'), 537), (('DAI55148', 'DAI62779'), 526), (('DAI43223', 'GRO59710'), 512), (('ELE17451', 'ELE32164'), 511), (('DAI62779', 'SNA18336'), 506), (('ELE32164', 'GRO73461'), 486), (('DAI62779', 'FRO78087'), 482), (('DAI85309', 'ELE17451'), 482), (('DAI62779', 'GRO94758'), 479), (('GRO85051', 'SNA80324'), 471), (('DAI62779', 'GRO21487'), 471), (('ELE17451', 'GRO30386'), 468), (('FRO85978', 'SNA95666'), 463), (('DAI62779', 'FRO19221'), 462), (('DAI62779', 'GRO46854'), 461), (('DAI43223', 'DAI62779'), 459), (('ELE92920', 'SNA18336'), 455), (('DAI88079', 'FRO40251'), 446), (('DAI62779', 'SNA96271'), 442), (('FRO73056', 'GRO44993'), 438), (('DAI62779', 'FRO85978'), 434), (('ELE20847', 'FRO40251'), 434), (('DAI62779', 'ELE74009'), 432), (('GRO38814', 'GRO73461'), 427), (('ELE20847', 'SNA80324'), 410), (('ELE17451', 'GRO59710'), 408), (('DAI62779', 'SNA90094'), 408), (('DAI62779', 'SNA99873'), 406), (('DAI62779', 'ELE99737'), 401), (('DAI62779', 'GRO81087'), 396), (('FRO31317', 'GRO73461'), 395), (('DAI75645', 'GRO85051'), 395), (('DAI88807', 'SNA72163'), 394), (('DAI62779', 'GRO15017'), 391), (('DAI62779', 'GRO38814'), 389), (('GRO46854', 'GRO73461'), 389), (('ELE17451', 'ELE92920'), 384), (('DAI62779', 'GRO85051'), 382), (('DAI22177', 'DAI62779'), 382), (('GRO30386', 'GRO73461'), 380), (('DAI62779', 'FRO31317'), 376), (('FRO40251', 'GRO21487'), 375), (('DAI62779', 'ELE59028'), 370), (('DAI31081', 'DAI62779'), 364), (('ELE17451', 'FRO31317'), 359), (('ELE74482', 'SNA99873'), 357), (('ELE17451', 'FRO80039'), 356), (('DAI62779', 'ELE56788'), 355), (('DAI62779', 'DAI63921'), 353), (('DAI62779', 'DAI91290'), 353), (('FRO92469', 'SNA80324'), 352), (('ELE17451', 'SNA59903'), 351), (('DAI62779', 'ELE59935'), 351), (('ELE26917', 'FRO40251'), 346), (('DAI85309', 'GRO46854'), 346), (('ELE74009', 'GRO73461'), 345), (('FRO85978', 'GRO73461'), 344), (('DAI55148', 'FRO40251'), 343), (('DAI62779', 'SNA59903'), 342), (('DAI55148', 'SNA80324'), 339), (('DAI85309', 'GRO73461'), 338), (('ELE91337', 'SNA45677'), 334), (('GRO73461', 'GRO81647'), 332), (('DAI62779', 'SNA38068'), 329), (('DAI88807', 'SNA59903'), 328), (('DAI43223', 'ELE17451'), 326), (('DAI35347', 'FRO31317'), 325), (('GRO56726', 'GRO73461'), 324)]\n"
          ]
        }
      ]
    },
    {
      "cell_type": "markdown",
      "source": [
        "# Question 2: Find interesting pair rules \n",
        "[45 points: 15 for correct expressions for confidence score, 15 for correct expressions for interest score, 15 for ensuring the X->Y and Y->X rules are all computed so that the top 5 confidence and interesting rules are correct]\n",
        "\n",
        "2a) Using the item pairs (X, Y) found in Part 1, compute the confidence score for the corresponding association rules X->Y and Y->X for each of them. Here are the top 5 confidence score rules:\n",
        "\n",
        "[(('DAI93865', 'FRO40251'), 1.0), (('GRO85051', 'FRO40251'), 0.9991762767710051), (('GRO38636', 'FRO40251'), 0.9906542056074765), (('ELE12951', 'FRO40251'), 0.9905660377358491), (('DAI88079', 'FRO40251'), 0.9867256637168142)]\n",
        "\n"
      ],
      "metadata": {
        "id": "j1pz_f16bHf-"
      }
    },
    {
      "cell_type": "code",
      "source": [
        "def score(pair):\n",
        "  result = []\n",
        "  X, Y, count = pair[0][0], pair[0][1], pair[1]\n",
        "  # X->Y, Y->X\n",
        "  result.append(((X, Y), count/frequentItemCount.value[X]))\n",
        "  result.append(((Y, X), count/frequentItemCount.value[Y]))\n",
        "  # print(result)\n",
        "  return result\n",
        "\n",
        "confidenceScore = pairs.flatMap(lambda pairCount: [(result) for result in score(pairCount)]).sortBy(lambda a: -a[1])\n",
        "dbg(confidenceScore)"
      ],
      "metadata": {
        "colab": {
          "base_uri": "https://localhost:8080/"
        },
        "id": "KVVjv0yiRi_O",
        "outputId": "47ac06ef-b28e-4c3c-83f8-4bba6a7caaf2"
      },
      "execution_count": 43,
      "outputs": [
        {
          "output_type": "stream",
          "name": "stdout",
          "text": [
            "[(('DAI93865', 'FRO40251'), 1.0), (('GRO85051', 'FRO40251'), 0.999176276771005), (('GRO38636', 'FRO40251'), 0.9906542056074766), (('ELE12951', 'FRO40251'), 0.9905660377358491), (('DAI88079', 'FRO40251'), 0.9867256637168141), (('FRO92469', 'FRO40251'), 0.983510011778563), (('DAI43868', 'SNA82528'), 0.972972972972973), (('DAI23334', 'DAI62779'), 0.9545454545454546), (('DAI74977', 'GRO83463'), 0.8240740740740741), (('DAI20027', 'DAI70456'), 0.8070175438596491), (('DAI33885', 'GRO46854'), 0.7407407407407407), (('SNA46500', 'GRO44993'), 0.7403846153846154), (('SNA81556', 'DAI85309'), 0.7363636363636363), (('ELE92920', 'DAI62779'), 0.7326649958228906), (('DAI53152', 'FRO40251'), 0.717948717948718), (('SNA18336', 'DAI62779'), 0.7136812411847673), (('ELE55848', 'GRO32086'), 0.7094594594594594), (('DAI74112', 'DAI42493'), 0.6991150442477876), (('GRO89004', 'ELE25077'), 0.698051948051948), (('GRO81647', 'GRO73461'), 0.6775510204081633), (('DAI37288', 'ELE32164'), 0.6464088397790055), (('SNA18336', 'ELE92920'), 0.6417489421720733), (('ELE32244', 'ELE66600'), 0.6403508771929824), (('DAI74112', 'GRO59710'), 0.6283185840707964), (('FRO47962', 'DAI75645'), 0.6176470588235294), (('FRO73056', 'GRO44993'), 0.6016483516483516), (('FRO19221', 'DAI62779'), 0.5976714100905562), (('SNA44451', 'DAI18527'), 0.5828571428571429), (('FRO91992', 'FRO78087'), 0.5826086956521739), (('SNA28607', 'SNA90094'), 0.5825242718446602), (('FRO17734', 'ELE28189'), 0.5815602836879432), (('DAI46755', 'FRO81176'), 0.5803921568627451), (('ELE88583', 'SNA24799'), 0.5792682926829268), (('SNA95666', 'FRO85978'), 0.5758706467661692), (('FRO62970', 'FRO78087'), 0.5739130434782609), (('FRO41939', 'ELE66810'), 0.5735294117647058), (('FRO98006', 'DAI62779'), 0.5702479338842975), (('GRO81045', 'GRO46854'), 0.5674603174603174), (('DAI16732', 'FRO78087'), 0.5668449197860963), (('ELE81534', 'DAI62779'), 0.5633802816901409), (('FRO66881', 'ELE73604'), 0.5630252100840336), (('DAI16142', 'DAI62779'), 0.553030303030303), (('DAI43223', 'ELE32164'), 0.5511627906976744), (('ELE59028', 'DAI62779'), 0.549777117384844), (('DAI55148', 'DAI62779'), 0.5394871794871795), (('SNA30859', 'GRO24246'), 0.53125), (('ELE20847', 'FRO40251'), 0.530562347188264), (('SNA62046', 'DAI88088'), 0.5304347826086957), (('SNA40078', 'DAI62779'), 0.5197368421052632), (('DAI74874', 'GRO88511'), 0.5151515151515151), (('SNA62046', 'ELE38289'), 0.5130434782608696), (('DAI11778', 'DAI62779'), 0.5128205128205128), (('GRO93333', 'GRO73461'), 0.5098039215686274), (('SNA30533', 'SNA96271'), 0.5090361445783133), (('ELE11909', 'SNA96466'), 0.5038167938931297), (('ELE21353', 'DAI62779'), 0.5023255813953489), (('ELE20847', 'SNA80324'), 0.5012224938875306), (('DAI23334', 'ELE92920'), 0.5), (('GRO30912', 'ELE88583'), 0.5), (('GRO66628', 'DAI62779'), 0.5), (('FRO91992', 'ELE66600'), 0.4956521739130435), (('GRO30912', 'DAI62779'), 0.49047619047619045), (('DAI42083', 'DAI92600'), 0.4904214559386973), (('GRO23573', 'DAI62779'), 0.4889705882352941), (('SNA97370', 'ELE17451'), 0.48739495798319327), (('GRO89148', 'DAI62779'), 0.4868421052631579), (('GRO38636', 'SNA80324'), 0.48598130841121495), (('GRO38636', 'DAI75645'), 0.48598130841121495), (('DAI67189', 'DAI62779'), 0.4857142857142857), (('SNA82528', 'DAI43868'), 0.48484848484848486), (('GRO20770', 'DAI83733'), 0.48175182481751827), (('SNA93730', 'DAI62779'), 0.48125), (('GRO55545', 'ELE38289'), 0.4782608695652174), (('SNA35625', 'DAI62779'), 0.47738693467336685), (('GRO29598', 'DAI62779'), 0.4766355140186916), (('SNA87482', 'DAI62779'), 0.47572815533980584), (('DAI83031', 'DAI94679'), 0.47474747474747475), (('GRO75758', 'GRO56726'), 0.4723926380368098), (('FRO98006', 'GRO73461'), 0.47107438016528924), (('SNA88091', 'DAI62779'), 0.47023809523809523), (('SNA80324', 'FRO40251'), 0.46386333771353483), (('FRO17249', 'DAI62779'), 0.46153846153846156), (('DAI75645', 'FRO40251'), 0.4583333333333333), (('GRO46627', 'DAI62779'), 0.4583333333333333), (('DAI88088', 'ELE38289'), 0.45685279187817257), (('DAI50895', 'DAI62779'), 0.45685279187817257), (('DAI77909', 'FRO87855'), 0.456), (('ELE81534', 'SNA24799'), 0.45539906103286387), (('GRO59710', 'ELE32164'), 0.4545908183632735), (('GRO26160', 'DAI83733'), 0.45454545454545453), (('ELE28189', 'FRO17734'), 0.45429362880886426), (('ELE78169', 'GRO94758'), 0.45161290322580644), (('ELE35159', 'ELE49861'), 0.4504950495049505), (('ELE25077', 'GRO89004'), 0.4497907949790795), (('ELE69552', 'FRO19221'), 0.44884488448844884), (('ELE88583', 'DAI62779'), 0.4481707317073171), (('FRO47962', 'GRO73461'), 0.4477124183006536), (('FRO17249', 'GRO46854'), 0.4444444444444444), (('ELE69552', 'DAI62779'), 0.44224422442244227), (('GRO39661', 'DAI62779'), 0.43902439024390244)]\n"
          ]
        }
      ]
    },
    {
      "cell_type": "markdown",
      "source": [
        "2b) Then compute the interest score for each of them. Report the top 5. You will need to use maps, joins, and lambda expressions. Here are the top 5 interesting rules:\n",
        "\n",
        "[(('DAI43868', 'SNA82528'), 0.9538739086342056), (('DAI93865', 'FRO40251'), 0.8752130156586605), (('GRO85051', 'FRO40251'), 0.8743892924296656), (('GRO38636', 'FRO40251'), 0.865867221266137), (('ELE12951', 'FRO40251'), 0.8657790533945096)]"
      ],
      "metadata": {
        "id": "zFDEuGHhLc-l"
      }
    },
    {
      "cell_type": "code",
      "source": [
        "def count(line):\n",
        "  result = []\n",
        "  for i in line.split():\n",
        "    if i not in result:\n",
        "      result.append((i, 1))\n",
        "  return result\n",
        "\n",
        "def interestScore(file, score):\n",
        "  \"\"\"\n",
        "   Then compute the interest score for each of them. Report the top 5. You will need to use maps, joins, and lambda expressions\n",
        "  \"\"\"\n",
        "  counts = (file.flatMap(lambda each: [a for a in count(each)]).reduceByKey(lambda a, b: a+b))\n",
        "  total = file.map(lambda each: 1).sum()\n",
        "  result = score.map(lambda a: ((a[0][1]), (a[0][0], a[1]))).join(counts).map(lambda a: ((a[1][0][0], a[0]), a[1][0][1]-a[1][1]/total)).sortBy(lambda a: a[1], False)\n",
        "  return result\n",
        "\n",
        "interestScore = interestScore(browsing, confidenceScore)\n",
        "dbg(interestScore)"
      ],
      "metadata": {
        "colab": {
          "base_uri": "https://localhost:8080/"
        },
        "id": "GcIqrlUlLkDp",
        "outputId": "a4ccf196-1bac-4e12-a3d1-58c46f5d8827"
      },
      "execution_count": 44,
      "outputs": [
        {
          "output_type": "stream",
          "name": "stdout",
          "text": [
            "[(('DAI43868', 'SNA82528'), 0.9538739086342057), (('DAI93865', 'FRO40251'), 0.8752130156586605), (('GRO85051', 'FRO40251'), 0.8743892924296655), (('GRO38636', 'FRO40251'), 0.8658672212661371), (('ELE12951', 'FRO40251'), 0.8657790533945096), (('DAI88079', 'FRO40251'), 0.8619386793754746), (('FRO92469', 'FRO40251'), 0.8587230274372235), (('DAI74977', 'GRO83463'), 0.8065826750836879), (('DAI20027', 'DAI70456'), 0.7932880817844746), (('DAI23334', 'DAI62779'), 0.7401793569923212), (('SNA46500', 'GRO44993'), 0.7020257201722429), (('DAI33885', 'GRO46854'), 0.6842795337055971), (('GRO89004', 'ELE25077'), 0.6826826673214249), (('ELE55848', 'GRO32086'), 0.6819362286951753), (('DAI74112', 'DAI42493'), 0.6669295839731983), (('SNA81556', 'DAI85309'), 0.66263610348688), (('SNA18336', 'ELE92920'), 0.6032614337318303), (('DAI53152', 'FRO40251'), 0.5931617336073784), (('ELE32244', 'ELE66600'), 0.5852722623574467), (('SNA44451', 'DAI18527'), 0.5742400565898202), (('FRO17734', 'ELE28189'), 0.5699529398726318), (('DAI46755', 'FRO81176'), 0.5653122558949306), (('DAI74112', 'GRO59710'), 0.5638833569076827), (('FRO73056', 'GRO44993'), 0.563289456435979), (('ELE88583', 'SNA24799'), 0.5630630259712455), (('GRO81647', 'GRO73461'), 0.5617348087107902), (('FRO66881', 'ELE73604'), 0.5560800957790274), (('DAI37288', 'ELE32164'), 0.5547397616143163), (('SNA28607', 'SNA90094'), 0.537831175159666), (('FRO91992', 'FRO78087'), 0.5333819826847452), (('FRO47962', 'DAI75645'), 0.5296756109601167), (('FRO62970', 'FRO78087'), 0.5246863305108322), (('FRO41939', 'ELE66810'), 0.518965249840652), (('ELE92920', 'DAI62779'), 0.5182988982697572), (('SNA62046', 'DAI88088'), 0.5177663796634527), (('DAI16732', 'FRO78087'), 0.5176182068186677), (('SNA95666', 'FRO85978'), 0.5142006040022709), (('GRO81045', 'GRO46854'), 0.5109991104251739), (('SNA30859', 'GRO24246'), 0.5008972782225651), (('SNA18336', 'DAI62779'), 0.49931514363163393), (('SNA62046', 'ELE38289'), 0.49642021855860924), (('GRO30912', 'ELE88583'), 0.4894537153146201), (('DAI74874', 'GRO88511'), 0.48766043769419865), (('ELE11909', 'SNA96466'), 0.4875472205675132), (('SNA82528', 'DAI43868'), 0.47533110598606887), (('SNA30533', 'SNA96271'), 0.4673976120552433), (('DAI83031', 'DAI94679'), 0.464104730141192), (('GRO55545', 'ELE38289'), 0.46163760986295704), (('DAI23334', 'ELE92920'), 0.46151249155975693), (('DAI42083', 'DAI92600'), 0.4603581139239711), (('DAI43223', 'ELE32164'), 0.45949371253298515), (('DAI77909', 'FRO87855'), 0.45178791678724156), (('ELE28189', 'FRO17734'), 0.44522639624399496), (('FRO91992', 'ELE66600'), 0.44057355907750767), (('DAI88088', 'ELE38289'), 0.4402295321759122), (('ELE25077', 'GRO89004'), 0.43988757643305204), (('ELE81534', 'SNA24799'), 0.43919379432118255), (('ELE35159', 'ELE49861'), 0.4377301866388047), (('FRO87855', 'DAI77909'), 0.4310953404458412), (('GRO20770', 'DAI83733'), 0.42670536328895003), (('ELE69552', 'FRO19221'), 0.4239903782024773), (('SNA62046', 'ELE95803'), 0.420603000322931), (('DAI94679', 'DAI83031'), 0.41643234094239884), (('GRO75758', 'GRO56726'), 0.41503113840657285), (('ELE36642', 'DAI62356'), 0.414061951086484), (('SNA46500', 'FRO73056'), 0.40928470021987917), (('ELE20847', 'FRO40251'), 0.4057753628469245), (('ELE78169', 'GRO94758'), 0.4037366291510178), (('ELE20847', 'SNA80324'), 0.4033478274780904), (('ELE30182', 'SNA24799'), 0.3998531274489026), (('GRO26160', 'DAI83733'), 0.3994989930168863), (('GRO38636', 'DAI75645'), 0.3980098605478022), (('SNA12342', 'ELE30933'), 0.39725285891284984), (('GRO93333', 'GRO73461'), 0.3939877098712543), (('ELE50913', 'ELE38289'), 0.3939030560872133), (('SNA53220', 'SNA93860'), 0.392691331579315), (('GRO75758', 'DAI50913'), 0.3905032939386282), (('GRO38636', 'SNA80324'), 0.38810664200177475), (('FRO17249', 'GRO46854'), 0.38798323740930085), (('DAI68241', 'GRO94871'), 0.3850377239454418), (('GRO94871', 'DAI68241'), 0.3850377239454418), (('GRO39070', 'GRO99222'), 0.3846622073356107), (('FRO19221', 'DAI62779'), 0.3833053125374229), (('GRO33815', 'DAI50913'), 0.38154907570393903), (('SNA21851', 'SNA90094'), 0.38030690331500594), (('SNA11465', 'FRO86643'), 0.37976791652458075), (('DAI62356', 'ELE36642'), 0.3789719552316973), (('FRO66881', 'FRO26482'), 0.37587972393548913), (('DAI18527', 'SNA44451'), 0.37497018620603934), (('GRO30912', 'GRO95519'), 0.3680910581653323), (('SNA24799', 'ELE88583'), 0.3664378422987471), (('DAI35798', 'GRO35122'), 0.36641069219809963), (('DAI70456', 'ELE37770'), 0.36616027843709625), (('SNA88091', 'SNA40408'), 0.3636177293334619), (('GRO59710', 'ELE32164'), 0.36292174019858425), (('SNA97370', 'ELE17451'), 0.3628008934836595), (('ELE99737', 'DAI85309'), 0.36096903704408795), (('FRO32801', 'ELE66600'), 0.36076296932288), (('GRO74951', 'ELE60381'), 0.3594755999135524), (('DAI96999', 'DAI50913'), 0.3580091115819538)]\n"
          ]
        }
      ]
    }
  ]
}