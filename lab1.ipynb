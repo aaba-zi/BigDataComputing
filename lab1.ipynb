{
  "nbformat": 4,
  "nbformat_minor": 0,
  "metadata": {
    "colab": {
      "name": "lab1.ipynb",
      "provenance": [],
      "collapsed_sections": []
    },
    "kernelspec": {
      "name": "python3",
      "display_name": "Python 3"
    }
  },
  "cells": [
    {
      "cell_type": "markdown",
      "metadata": {
        "id": "2atU0B4txqus"
      },
      "source": [
        "#name: Ziling Huang\n",
        "#UC user name: zhu51\n",
        "\n"
      ]
    },
    {
      "cell_type": "markdown",
      "metadata": {
        "id": "7MHTn1dlBKau"
      },
      "source": [
        "version 1.0.1\n",
        "#![Spark Logo](http://spark-mooc.github.io/web-assets/images/ta_Spark-logo-small.png) + ![Python Logo](http://spark-mooc.github.io/web-assets/images/python-logo-master-v3-TM-flattened_small.png)\n",
        "# **Web Server Log Analysis with Apache Spark**\n",
        " \n",
        "####This lab will demonstrate how easy it is to perform web server log analysis with Apache Spark.\n",
        " \n",
        "####Server log analysis is an ideal use case for Spark.  It's a very large, common data source and contains a rich set of information.  Spark allows you to store your logs in files on disk cheaply, while still providing a quick and simple way to perform data analysis on them.  This homework will show you how to use Apache Spark on real-world text-based production logs and fully harness the power of that data.  Log data comes from many sources, such as web, file, and compute servers, application logs, user-generated content,  and can be used for monitoring servers, improving business and customer intelligence, building recommendation systems, fraud detection, and much more."
      ]
    },
    {
      "cell_type": "markdown",
      "metadata": {
        "id": "qUWHB3OgBKav"
      },
      "source": [
        "# How to complete this assignment\n",
        " \n",
        "####This assignment is broken up into sections with bite-sized examples for demonstrating Spark functionality for log processing. For each problem, you should start by thinking about the algorithm that you will use to *efficiently* process the log in a parallel, distributed manner. This means using the various [RDD](http://spark.apache.org/docs/latest/api/python/pyspark.html#pyspark.RDD) operations along with [`lambda` functions](https://docs.python.org/2/tutorial/controlflow.html#lambda-expressions) that are applied at each worker.\n",
        " \n",
        "####This assignment consists of 4 parts:\n",
        "#### *Part 1*: TSV Log file format [0 points]\n",
        "#### *Part 2*: Sample Analyses on the Web Server Log File  [0 points]\n",
        "#### *Part 3*: Analyzing a Web Server Log File  [50 points]\n",
        "# #### *Part 4*: Exploring 404 Response Codes  [50 points]"
      ]
    },
    {
      "cell_type": "code",
      "metadata": {
        "id": "Lg4Km4uvse-T",
        "colab": {
          "base_uri": "https://localhost:8080/"
        },
        "outputId": "b67b0876-9b72-4a28-f2e1-22dfe67c911d"
      },
      "source": [
        "# start the Spark context\n",
        "!apt-get install openjdk-8-jdk-headless -qq > /dev/null\n",
        "!pip install -q pyspark\n",
        "\n",
        "\n",
        "import os\n",
        "os.environ['PYTHONHASHSEED']=\"0\"\n",
        "os.environ[\"PYSPARK_PYTHON\"]=\"python3\"\n",
        "os.environ[\"JAVA_HOME\"]=\"/usr/lib/jvm/java-8-openjdk-amd64/\"\n",
        "# A few additional libraries we will need\n",
        "from math import sqrt\n",
        "\n",
        "import pyspark\n",
        "from pyspark import SparkConf, SparkContext\n",
        "from pyspark.sql import *\n",
        "\n",
        "try:\n",
        "  conf = SparkConf().setMaster(\"local[*]\").set(\"spark.executor.memory\", \"1g\").set(\"spark.executorEnv.PYTHONHASHSEED\",\"0\").set(\"spark.ui.port\", \"4050\")\n",
        "  sc = SparkContext(conf = conf)\n",
        "  spark = SparkSession.builder.getOrCreate()\n",
        "except ValueError:\n",
        "  #it's ok if the server is already started\n",
        "  pass\n",
        "\n",
        "def dbg(x):\n",
        "  \"\"\" A helper function to print debugging information on RDDs \"\"\"\n",
        "  if isinstance(x, pyspark.RDD):\n",
        "    print([(t[0], list(t[1]) if \n",
        "            isinstance(t[1], pyspark.resultiterable.ResultIterable) else t[1])\n",
        "           if isinstance(t, tuple) else t\n",
        "           for t in x.take(100)])\n",
        "  else:\n",
        "    print(x)\n",
        "    \n",
        "\n",
        "import unittest\n",
        "Test = unittest.TestCase()"
      ],
      "execution_count": 1,
      "outputs": [
        {
          "output_type": "stream",
          "name": "stdout",
          "text": [
            "\u001b[K     |████████████████████████████████| 281.4 MB 30 kB/s \n",
            "\u001b[K     |████████████████████████████████| 198 kB 46.2 MB/s \n",
            "\u001b[?25h  Building wheel for pyspark (setup.py) ... \u001b[?25l\u001b[?25hdone\n"
          ]
        }
      ]
    },
    {
      "cell_type": "markdown",
      "metadata": {
        "id": "2I-S2aZTBKaw"
      },
      "source": [
        "### **Part 1: Log file format**\n",
        "####The log file that we use for this assignment is in the TSV format (tab separated values). The log file entries produced in TSV will look something like this:\n",
        "`piweba3y.prodigy.com - 807301196 GET /shuttle/missions/missions.html 200 8677`\n",
        " \n",
        "####Each part of this log entry is described below.\n",
        "* `piweba3y.prodigy.com`\n",
        "####This is the IP address (or host name, if available) of the client (remote host) which made the request to the server.\n",
        " \n",
        "* `-`\n",
        "####The \"hyphen\" in the output indicates that the requested piece of information (log name) is not available.\n",
        " \n",
        "* `807301196`\n",
        "####The time that the server finished processing the request in seconds since 1970 (The Unix epoch (or Unix time or POSIX time or Unix timestamp))\n",
        "\n",
        "* `GET`\n",
        "####The request method (e.g., `GET`, `POST`, etc.), \n",
        "\n",
        "* `/shuttle/missions/missions.html`\n",
        "The endpoint (a [Uniform Resource Identifier](http://en.wikipedia.org/wiki/Uniform_resource_identifier)), which is the requested path\n",
        " \n",
        "* `200`\n",
        "####This is the status code that the server sends back to the client. This information is very valuable, because it reveals whether the request resulted in a successful response (codes beginning in 2), a redirection (codes beginning in 3), an error caused by the client (codes beginning in 4), or an error in the server (codes beginning in 5). The full list of possible status codes can be found in the HTTP specification ([RFC 2616](https://www.ietf.org/rfc/rfc2616.txt) section 10).\n",
        " \n",
        "* `8677`\n",
        "####The last entry indicates the size of the object returned to the client, not including the response headers. If no content was returned to the client, this value will be \"-\" (or sometimes 0).\n",
        " \n",
        "####Note that log files contain information supplied directly by the client, without escaping. Therefore, it is possible for malicious clients to insert control-characters in the log files, *so care must be taken in dealing with raw logs.*\n",
        " \n",
        "### NASA-HTTP Web Server Log\n",
        "####For this assignment, we will use a data set from NASA Kennedy Space Center WWW server in Florida. The full data set is freely available (ftp://ita.ee.lbl.gov/traces/NASA_access_log_Aug95.gz) and contains two month's of all HTTP requests. We are using a subset that only contains several days worth of requests."
      ]
    },
    {
      "cell_type": "code",
      "source": [
        "#download the special subset\n",
        "!gdown 'https://drive.google.com/uc?export=download&confirm=t&id=16m335JAibvlV2fQbOylznGF30qTLvbmn'"
      ],
      "metadata": {
        "colab": {
          "base_uri": "https://localhost:8080/"
        },
        "id": "Uh_4en9NIXqv",
        "outputId": "38bfc927-b147-44a0-f57a-42f1e66faf95"
      },
      "execution_count": 2,
      "outputs": [
        {
          "output_type": "stream",
          "name": "stdout",
          "text": [
            "Downloading...\n",
            "From: https://drive.google.com/uc?export=download&confirm=t&id=16m335JAibvlV2fQbOylznGF30qTLvbmn\n",
            "To: /content/nasa_19950801.tsv\n",
            "100% 2.34M/2.34M [00:00<00:00, 13.8MB/s]\n"
          ]
        }
      ]
    },
    {
      "cell_type": "markdown",
      "metadata": {
        "id": "vZHmxJamBKax"
      },
      "source": [
        "### **(1a) Parsing Each Log Line**\n",
        "####Using the TSV as defined above, we create a function that parses a line and returns a pair consisting of a Row object and 1. If the log line fails to match the regular expression, the function returns a pair consisting of the log line string and 0. A '-' value in the content size field is cleaned up by substituting it with 0. The function converts the log line's date string into a Python `datetime` object using the given `parse_apache_time` function."
      ]
    },
    {
      "cell_type": "code",
      "metadata": {
        "id": "Yg4qwY-DBKax"
      },
      "source": [
        "import re\n",
        "import datetime\n",
        "\n",
        "from pyspark.sql import Row\n",
        "\n",
        "\n",
        "def parseApacheLogLine(logline):\n",
        "    \"\"\" Parse a line in the Apache Common Log format\n",
        "    Args:\n",
        "        logline (str): a line of text in the Apache Common Log format\n",
        "    Returns:\n",
        "        tuple: either a dictionary containing the parts of the Apache Access Log and 1,\n",
        "               or the original invalid log line and 0\n",
        "    \"\"\"\n",
        "    match = logline.split('\\t')\n",
        "    try:\n",
        "      size_field = match[6]\n",
        "      if size_field == '-':\n",
        "          size = int(0)\n",
        "      else:\n",
        "          size = int(match[6])\n",
        "      return (Row(\n",
        "          host          = match[0],\n",
        "          log_name      = match[1],\n",
        "          date_time     = datetime.datetime.fromtimestamp(int(match[2])),\n",
        "          method        = match[3],\n",
        "          endpoint      = match[4],\n",
        "          response_code = int(match[5]),\n",
        "          content_size  = size\n",
        "      ), 1)\n",
        "    except:\n",
        "      return (logline, 0)\n"
      ],
      "execution_count": 3,
      "outputs": []
    },
    {
      "cell_type": "markdown",
      "metadata": {
        "id": "HlBbZ3ylBKa2"
      },
      "source": [
        "### **(1b) Configuration and Initial RDD Creation**\n",
        "####We are ready to specify the input log file and create an RDD containing the parsed log file data. The log file has already been downloaded for you.\n",
        " \n",
        "####To create the primary RDD that we'll use in the rest of this assignment, we first load the text file using [`sc.textfile(logFile)`](http://spark.apache.org/docs/latest/api/python/pyspark.html#pyspark.SparkContext.textFile) to convert each line of the file into an element in an RDD.\n",
        "####Next, we use [`map(parseLog)`](http://spark.apache.org/docs/latest/api/python/pyspark.html#pyspark.RDD.map) to apply the parse function to each element (that is, a line from the log file) in the RDD and turn each line into a pair [`Row` object](http://spark.apache.org/docs/latest/api/python/pyspark.sql.html#pyspark.sql.Row).\n",
        "####Finally, we cache the RDD in memory since we'll use it throughout this notebook."
      ]
    },
    {
      "cell_type": "code",
      "metadata": {
        "id": "oiHQN5IfBKa3",
        "colab": {
          "base_uri": "https://localhost:8080/"
        },
        "outputId": "dc1a3baa-6a3e-4d9b-ffa5-45158967d375"
      },
      "source": [
        "\n",
        "def parseLog(logFile):\n",
        "    parsed_log = (sc\n",
        "                   .textFile(logFile)\n",
        "                   .map(parseApacheLogLine)\n",
        "                   .cache())\n",
        "\n",
        "    access_logs = (parsed_log\n",
        "                   .filter(lambda s: s[1] == 1)\n",
        "                   .map(lambda s: s[0])\n",
        "                   .cache())\n",
        "\n",
        "    failed_logs = (parsed_log\n",
        "                   .filter(lambda s: s[1] == 0)\n",
        "                   .map(lambda s: s[0]))\n",
        "    failed_logs_count = failed_logs.count()\n",
        "    if failed_logs_count > 0:\n",
        "        print('Number of invalid logline: %d' % failed_logs.count())\n",
        "        for line in failed_logs.take(20):\n",
        "            print('Invalid logline: %s' % line)\n",
        "\n",
        "    print('Read %d lines, successfully parsed %d lines, failed to parse %d lines' % (parsed_log.count(), access_logs.count(), failed_logs.count()))\n",
        "    return parsed_log, access_logs, failed_logs\n",
        "\n",
        "\n",
        "parsed_logs, access_logs, failed_logs = parseLog('nasa_19950801.tsv')"
      ],
      "execution_count": 4,
      "outputs": [
        {
          "output_type": "stream",
          "name": "stdout",
          "text": [
            "Number of invalid logline: 1\n",
            "Invalid logline: host\tlogname\ttime\tmethod\turl\tresponse\tbytes\treferer\tuseragent\n",
            "Read 30970 lines, successfully parsed 30969 lines, failed to parse 1 lines\n"
          ]
        }
      ]
    },
    {
      "cell_type": "markdown",
      "metadata": {
        "id": "7E0ECuMZBKa9"
      },
      "source": [
        "### **Part 2: Sample Analyses on the Web Server Log File**\n",
        " \n",
        "####Now that we have an RDD containing the log file as a set of Row objects, we can perform various analyses.\n",
        " \n",
        "#### **(2a) Example: Content Size Statistics**\n",
        " \n",
        "####Let's compute some statistics about the sizes of content being returned by the web server. In particular, we'd like to know what are the average, minimum, and maximum content sizes.\n",
        " \n",
        "####We can compute the statistics by applying a `map` to the `access_logs` RDD. The `lambda` function we want for the map is to extract the `content_size` field from the RDD. The map produces a new RDD containing only the `content_sizes` (one element for each Row object in the `access_logs` RDD). To compute the minimum and maximum statistics, we can use [`min()`](http://spark.apache.org/docs/latest/api/python/pyspark.html#pyspark.RDD.min) and [`max()`](http://spark.apache.org/docs/latest/api/python/pyspark.html#pyspark.RDD.max) functions on the new RDD. We can compute the average statistic by using the [`reduce`](http://spark.apache.org/docs/latest/api/python/pyspark.html#pyspark.RDD.reduce) function with a `lambda` function that sums the two inputs, which represent two elements from the new RDD that are being reduced together. The result of the `reduce()` is the total content size from the log and it is to be divided by the number of requests as determined using the [`count()`](http://spark.apache.org/docs/latest/api/python/pyspark.html#pyspark.RDD.count) function on the new RDD."
      ]
    },
    {
      "cell_type": "code",
      "metadata": {
        "id": "dhZhFReWBKa-",
        "colab": {
          "base_uri": "https://localhost:8080/"
        },
        "outputId": "00df69fc-f023-4c1a-cbc1-938632dabe58"
      },
      "source": [
        "# Calculate statistics based on the content size.\n",
        "content_sizes = access_logs.map(lambda log: log.content_size).cache()\n",
        "print('Content Size Avg: %i, Min: %i, Max: %s' % (\n",
        "    content_sizes.reduce(lambda a, b : a + b) / content_sizes.count(),\n",
        "    content_sizes.min(),\n",
        "    content_sizes.max()))\n",
        "print(content_sizes.reduce(lambda a, b : a + b))"
      ],
      "execution_count": 5,
      "outputs": [
        {
          "output_type": "stream",
          "name": "stdout",
          "text": [
            "Content Size Avg: 15563, Min: 0, Max: 1269716\n",
            "482000467\n"
          ]
        }
      ]
    },
    {
      "cell_type": "code",
      "source": [
        "def yay(x, y):\n",
        "  return x + y"
      ],
      "metadata": {
        "id": "KXSEqkiN0QlP"
      },
      "execution_count": 6,
      "outputs": []
    },
    {
      "cell_type": "code",
      "source": [
        "lambda x, y : x + y # lambda is a easy function, reduce(lambda a, b:a + b) is to add the list all together"
      ],
      "metadata": {
        "id": "oiure7DX0K1G"
      },
      "execution_count": null,
      "outputs": []
    },
    {
      "cell_type": "code",
      "source": [
        "# a = sc.parallelize([1,2,3,4])"
      ],
      "metadata": {
        "id": "s3EXaC90z7DW"
      },
      "execution_count": null,
      "outputs": []
    },
    {
      "cell_type": "markdown",
      "metadata": {
        "id": "V894VVvBBKbB"
      },
      "source": [
        "#### **(2b) Example: Response Code Analysis**\n",
        "####Next, lets look at the response codes that appear in the log. As with the content size analysis, first we create a new RDD by using a `lambda` function to extract the `response_code` field from the `access_logs` RDD. The difference here is that we will use a [pair tuple](https://docs.python.org/2/tutorial/datastructures.html?highlight=tuple#tuples-and-sequences) instead of just the field itself. Using a pair tuple consisting of the response code and 1 will let us count how many records have a particular response code. Using the new RDD, we perform a [`reduceByKey`](http://spark.apache.org/docs/latest/api/python/pyspark.html#pyspark.RDD.reduceByKey) function. `reduceByKey` performs a reduce on a per-key basis by applying the `lambda` function to each element, pairwise with the same key. We use the simple `lambda` function of adding the two values. Then, we cache the resulting RDD and create a list by using the [`take`](http://spark.apache.org/docs/latest/api/python/pyspark.html#pyspark.RDD.take) function."
      ]
    },
    {
      "cell_type": "code",
      "metadata": {
        "id": "0lULW-4fBKbB",
        "colab": {
          "base_uri": "https://localhost:8080/"
        },
        "outputId": "fdf45aed-1d67-4122-a492-dc77e92771dd"
      },
      "source": [
        "# Response Code to Count\n",
        "responseCodeToCount = (access_logs\n",
        "                       .map(lambda log: (log.response_code, 1))\n",
        "                       .reduceByKey(lambda a, b : a + b)\n",
        "                       .cache())\n",
        "responseCodeToCountList = responseCodeToCount.take(100)\n",
        "print('Found %d response codes' % len(responseCodeToCountList))\n",
        "print('Response Code Counts: %s' % sorted(responseCodeToCountList))\n",
        "assert len(responseCodeToCountList) == 4\n",
        "assert sorted(responseCodeToCountList) == [(200, 27972), (302, 355), (304, 2421), (404, 221)]"
      ],
      "execution_count": 7,
      "outputs": [
        {
          "output_type": "stream",
          "name": "stdout",
          "text": [
            "Found 4 response codes\n",
            "Response Code Counts: [(200, 27972), (302, 355), (304, 2421), (404, 221)]\n"
          ]
        }
      ]
    },
    {
      "cell_type": "markdown",
      "metadata": {
        "id": "xE5VBK6tBKbE"
      },
      "source": [
        "#### **(2c) Example: Response Code Graphing with `matplotlib`**\n",
        "####Now, lets visualize the results from the last example. We can visualize the results from the last example using [`matplotlib`](http://matplotlib.org/). First we need to extract the labels and fractions for the graph. We do this with two separate `map` functions with a `lambda` functions. The first `map` function extracts a list of of the response code values, and the second `map` function extracts a list of the per response code counts  divided by the total size of the access logs. Next, we create a figure with `figure()` constructor and use the `pie()` method to create the pie plot."
      ]
    },
    {
      "cell_type": "code",
      "metadata": {
        "id": "Kj33SMabBKbE",
        "colab": {
          "base_uri": "https://localhost:8080/"
        },
        "outputId": "5f0e7a50-8db4-4440-9e27-4926c7e0276d"
      },
      "source": [
        "labels = responseCodeToCount.map(lambda xy: xy[0]).collect()\n",
        "print(labels)\n",
        "count = access_logs.count()\n",
        "fracs = responseCodeToCount.map(lambda xy: (float(xy[1]) / count)).collect()\n",
        "print(fracs)"
      ],
      "execution_count": 8,
      "outputs": [
        {
          "output_type": "stream",
          "name": "stdout",
          "text": [
            "[200, 304, 302, 404]\n",
            "[0.9032258064516129, 0.07817494914269107, 0.011463075979205012, 0.0071361684264910075]\n"
          ]
        }
      ]
    },
    {
      "cell_type": "code",
      "metadata": {
        "id": "27IPrY2xBKbH",
        "colab": {
          "base_uri": "https://localhost:8080/",
          "height": 317
        },
        "outputId": "aaa38bfa-7fdc-4e9e-d85d-054d9f3520a0"
      },
      "source": [
        "import matplotlib.pyplot as plt\n",
        "\n",
        "\n",
        "def pie_pct_format(value):\n",
        "    \"\"\" Determine the appropriate format string for the pie chart percentage label\n",
        "    Args:\n",
        "        value: value of the pie slice\n",
        "    Returns:\n",
        "        str: formated string label; if the slice is too small to fit, returns an empty string for label\n",
        "    \"\"\"\n",
        "    return '' if value < 7 else '%.0f%%' % value\n",
        "\n",
        "fig = plt.figure(figsize=(4.5, 4.5), facecolor='white', edgecolor='white')\n",
        "colors = ['yellowgreen', 'lightskyblue', 'gold', 'purple', ]\n",
        "explode = (0.05, 0.05, 0.1, 0)\n",
        "patches, texts, autotexts = plt.pie(fracs, labels=labels, colors=colors,\n",
        "                                    explode=explode, autopct=pie_pct_format,\n",
        "                                    shadow=False,  startangle=125)\n",
        "for text, autotext in zip(texts, autotexts):\n",
        "    if autotext.get_text() == '':\n",
        "        text.set_text('')  # If the slice is small to fit, don't show a text label\n",
        "plt.legend(labels, loc=(0.80, -0.1), shadow=True)\n"
      ],
      "execution_count": 9,
      "outputs": [
        {
          "output_type": "execute_result",
          "data": {
            "text/plain": [
              "<matplotlib.legend.Legend at 0x7f199c5f3ed0>"
            ]
          },
          "metadata": {},
          "execution_count": 9
        },
        {
          "output_type": "display_data",
          "data": {
            "image/png": "[encoded data removed]",
            "text/plain": [
              "<Figure size 324x324 with 1 Axes>"
            ]
          },
          "metadata": {}
        }
      ]
    },
    {
      "cell_type": "markdown",
      "metadata": {
        "id": "11WFuFcOBKbI"
      },
      "source": [
        "#### **(2d) Example: Frequent Hosts**\n",
        "####Let's look at hosts that have accessed the server multiple times (e.g., more than ten times). As with the response code analysis in (2b), first we create a new RDD by using a `lambda` function to extract the `host` field from the `access_logs` RDD using a pair tuple consisting of the host and 1 which will let us count how many records were created by a particular host's request. Using the new RDD, we perform a `reduceByKey` function with a `lambda` function that adds the two values. We then filter the result based on the count of accesses by each host (the second element of each pair) being greater than ten. Next, we extract the host name by performing a `map` with a `lambda` function that returns the first element of each pair. Finally, we extract 20 elements from the resulting RDD - *note that the choice of which elements are returned is not guaranteed to be deterministic.*"
      ]
    },
    {
      "cell_type": "code",
      "metadata": {
        "id": "CjjrXMQUBKbJ",
        "colab": {
          "base_uri": "https://localhost:8080/"
        },
        "outputId": "476d22c3-15d3-42b6-a38c-170cbf28e1b7"
      },
      "source": [
        "# Any hosts that has accessed the server more than 10 times.\n",
        "hostCountPairTuple = access_logs.map(lambda log: (log.host, 1))\n",
        "\n",
        "hostSum = hostCountPairTuple.reduceByKey(lambda a, b : a + b)\n",
        "\n",
        "hostMoreThan10 = hostSum.filter(lambda s: s[1] > 10)\n",
        "\n",
        "hostsPick20 = (hostMoreThan10\n",
        "               .map(lambda s: s[0])\n",
        "               .take(20))\n",
        "\n",
        "print('Any 20 hosts that have accessed more then 10 times: %s' % hostsPick20)\n",
        "# An example: [u'204.120.34.185', u'204.243.249.9', u'slip1-32.acs.ohio-state.edu', u'lapdog-14.baylor.edu', u'199.77.67.3', u'gs1.cs.ttu.edu', u'haskell.limbex.com', u'alfred.uib.no', u'146.129.66.31', u'manaus.bologna.maraut.it', u'dialup98-110.swipnet.se', u'slip-ppp02.feldspar.com', u'ad03-053.compuserve.com', u'srawlin.opsys.nwa.com', u'199.202.200.52', u'ix-den7-23.ix.netcom.com', u'151.99.247.114', u'w20-575-104.mit.edu', u'205.25.227.20', u'ns.rmc.com']"
      ],
      "execution_count": 10,
      "outputs": [
        {
          "output_type": "stream",
          "name": "stdout",
          "text": [
            "Any 20 hosts that have accessed more then 10 times: ['bettong.client.uq.oz.au', 'dd10-046.compuserve.com', 'rvr0151.deltanet.com', '202.30.120.241', 'www-a1.proxy.aol.com', 'ad03-053.compuserve.com', 'www-b3.proxy.aol.com', 'dialup12.leuven.eunet.be', '193.84.66.147', 'gwa.ericsson.com', '198.189.70.111', 'www-d4.proxy.aol.com', 'pc-heh.icl.dk', 'www-b2.proxy.aol.com', 'beglinger.dial-up.bdt.com', 'dialup21.brussels.eunet.be', 'mage.ho.bom.gov.au', '204.96.24.4', 'nevans.aom.bt.co.uk', 'alyssa.prodigy.com']\n"
          ]
        }
      ]
    },
    {
      "cell_type": "markdown",
      "metadata": {
        "id": "Oq2X7GH7BKbL"
      },
      "source": [
        "#### **(2e) Example: Visualizing Endpoints**\n",
        "####Now, lets visualize the number of hits to endpoints (URIs) in the log. To perform this task, we first create a new RDD by using a `lambda` function to extract the `endpoint` field from the `access_logs` RDD using a pair tuple consisting of the endpoint and 1 which will let us count how many records were created by a particular host's request. Using the new RDD, we perform a `reduceByKey` function with a `lambda` function that adds the two values. We then cache the results.\n",
        " \n",
        "####Next we visualize the results using `matplotlib`. We previously imported the `matplotlib.pyplot` library, so we do not need to import it again. We perform two separate `map` functions with `lambda` functions. The first `map` function extracts a list of endpoint values, and the second `map` function extracts a list of the visits per endpoint values. Next, we create a figure with `figure()` constructor, set various features of the plot (axis limits, grid lines, and labels), and use the `plot()` method to create the line plot."
      ]
    },
    {
      "cell_type": "code",
      "metadata": {
        "id": "TlRV_PRlBKbM",
        "colab": {
          "base_uri": "https://localhost:8080/",
          "height": 307
        },
        "outputId": "f11b2782-28cf-448c-f301-c351821330c0"
      },
      "source": [
        "endpoints = (access_logs\n",
        "             .map(lambda log: (log.endpoint, 1))\n",
        "             .reduceByKey(lambda a, b : a + b)\n",
        "             .cache())\n",
        "ends = endpoints.map(lambda xy: xy[0]).collect()\n",
        "counts = endpoints.map(lambda xy: xy[1]).collect()\n",
        "\n",
        "fig = plt.figure(figsize=(8,4.2), facecolor='white', edgecolor='white')\n",
        "plt.axis([0, len(ends), 0, max(counts)])\n",
        "plt.grid(b=True, which='major', axis='y')\n",
        "plt.xlabel('Endpoints')\n",
        "plt.ylabel('Number of Hits')\n",
        "plt.plot(counts)"
      ],
      "execution_count": 11,
      "outputs": [
        {
          "output_type": "execute_result",
          "data": {
            "text/plain": [
              "[<matplotlib.lines.Line2D at 0x7f199c07a990>]"
            ]
          },
          "metadata": {},
          "execution_count": 11
        },
        {
          "output_type": "display_data",
          "data": {
            "image/png": "[encoded data removed]",
            "text/plain": [
              "<Figure size 576x302.4 with 1 Axes>"
            ]
          },
          "metadata": {}
        }
      ]
    },
    {
      "cell_type": "markdown",
      "metadata": {
        "id": "FQIZPWnKBKbO"
      },
      "source": [
        "#### **(2f) Example: Top Endpoints**\n",
        "####For the final example, we'll look at the top endpoints (URIs) in the log. To determine them, we first create a new RDD by using a `lambda` function to extract the `endpoint` field from the `access_logs` RDD using a pair tuple consisting of the endpoint and 1 which will let us count how many records were created by a particular host's request. Using the new RDD, we perform a `reduceByKey` function with a `lambda` function that adds the two values. We then extract the top ten endpoints by performing a [`takeOrdered`](http://spark.apache.org/docs/latest/api/python/pyspark.html#pyspark.RDD.takeOrdered) with a value of 10 and a `lambda` function that multiplies the count (the second element of each pair) by -1 to create a sorted list with the top endpoints at the bottom."
      ]
    },
    {
      "cell_type": "code",
      "metadata": {
        "id": "fA-k2uyCBKbP",
        "colab": {
          "base_uri": "https://localhost:8080/"
        },
        "outputId": "1c7c2ef2-f638-4d9e-916e-47077fb8fc41"
      },
      "source": [
        "# Top Endpoints\n",
        "endpointCounts = (access_logs\n",
        "                  .map(lambda log: (log.endpoint, 1))\n",
        "                  .reduceByKey(lambda a, b : a + b))\n",
        "\n",
        "topEndpoints = endpointCounts.takeOrdered(10, lambda s: -1 * s[1])\n",
        "\n",
        "print('Top Ten Endpoints: %s' % topEndpoints)\n",
        "assert topEndpoints == [('/images/NASA-logosmall.gif', 2140), ('/images/MOSAIC-logosmall.gif', 1756), ('/images/USA-logosmall.gif', 1748), ('/images/WORLD-logosmall.gif', 1734), ('/images/ksclogo-medium.gif', 1727), ('/ksc.html', 1382), ('/images/KSC-logosmall.gif', 1294), ('/', 627), ('/history/apollo/images/apollo-logo1.gif', 606), ('/images/launch-logo.gif', 562)]"
      ],
      "execution_count": 12,
      "outputs": [
        {
          "output_type": "stream",
          "name": "stdout",
          "text": [
            "Top Ten Endpoints: [('/images/NASA-logosmall.gif', 2140), ('/images/MOSAIC-logosmall.gif', 1756), ('/images/USA-logosmall.gif', 1748), ('/images/WORLD-logosmall.gif', 1734), ('/images/ksclogo-medium.gif', 1727), ('/ksc.html', 1382), ('/images/KSC-logosmall.gif', 1294), ('/', 627), ('/history/apollo/images/apollo-logo1.gif', 606), ('/images/launch-logo.gif', 562)]\n"
          ]
        }
      ]
    },
    {
      "cell_type": "markdown",
      "metadata": {
        "id": "qi9FApzTBKbQ"
      },
      "source": [
        "### **Part 3: Analyzing Web Server Log File**\n",
        " \n",
        "####Now it is your turn to perform analyses on web server log files."
      ]
    },
    {
      "cell_type": "markdown",
      "metadata": {
        "id": "ROgHO1QsBKbR"
      },
      "source": [
        "#### **(3a) Exercise: Top Ten Error Endpoints  [10 points]**\n",
        "####What are the top ten endpoints which did not have return code 200? Create a sorted list containing top ten endpoints and the number of times that they were accessed with non-200 return code.\n",
        " \n",
        "####Think about the steps that you need to perform to determine which endpoints did not have a 200 return code, how you will uniquely count those endpoints, and sort the list.\n",
        " \n",
        "####You might want to refer back to the previous Lab (Lab 0) for insights."
      ]
    },
    {
      "cell_type": "code",
      "metadata": {
        "id": "b13I4RsEBKbS",
        "colab": {
          "base_uri": "https://localhost:8080/"
        },
        "outputId": "f3022641-e22f-4aa0-a8bc-96d7db8adf46"
      },
      "source": [
        "# TODO: Replace <FILL IN> with appropriate code\n",
        "# HINT: Each of these <FILL IN> below could be completed with a single transformation or action.\n",
        "# You are welcome to structure your solution in a different way, so long as\n",
        "# you ensure the variables used in the next Test section are defined (ie. endpointSum, topTenErrURLs).\n",
        "\n",
        "not200 = access_logs.filter(lambda log:log.response_code != 200)\n",
        "\n",
        "endpointCountPairTuple = not200.map(lambda log:(log.endpoint, 1))\n",
        "\n",
        "endpointSum = endpointCountPairTuple.reduceByKey(lambda a, b : a + b)\n",
        "\n",
        "topTenErrURLs = endpointSum.takeOrdered(10, lambda s : -1 * s[1])\n",
        "print('Top Ten failed URLs: %s' % topTenErrURLs)"
      ],
      "execution_count": 20,
      "outputs": [
        {
          "output_type": "stream",
          "name": "stdout",
          "text": [
            "Top Ten failed URLs: [('/images/NASA-logosmall.gif', 268), ('/images/KSC-logosmall.gif', 210), ('/images/MOSAIC-logosmall.gif', 172), ('/images/USA-logosmall.gif', 168), ('/images/ksclogo-medium.gif', 160), ('/images/WORLD-logosmall.gif', 153), ('/', 84), ('/images/Nasa-logo.gif', 79), ('/history/apollo/images/apollo-logo1.gif', 62), ('/images/launch-logo.gif', 57)]\n"
          ]
        }
      ]
    },
    {
      "cell_type": "code",
      "metadata": {
        "id": "h5lw9wwnBKbT"
      },
      "source": [
        "# TEST Top ten error endpoints (3a)\n",
        "Test.assertEqual(endpointSum.count(), 581, 'incorrect count for endpointSum')\n",
        "Test.assertEqual(topTenErrURLs, [('/images/NASA-logosmall.gif', 268), ('/images/KSC-logosmall.gif', 210), ('/images/MOSAIC-logosmall.gif', 172), ('/images/USA-logosmall.gif', 168), ('/images/ksclogo-medium.gif', 160), ('/images/WORLD-logosmall.gif', 153), ('/', 84), ('/images/Nasa-logo.gif', 79), ('/history/apollo/images/apollo-logo1.gif', 62), ('/images/launch-logo.gif', 57)])"
      ],
      "execution_count": 21,
      "outputs": []
    },
    {
      "cell_type": "markdown",
      "metadata": {
        "id": "eBYBEHU-BKbW"
      },
      "source": [
        "#### **(3b) Exercise: Number of Unique Hosts [10 points]**\n",
        "####How many unique hosts are there in the entire log?\n",
        " \n",
        "####Think about the steps that you need to perform to count the number of different hosts in the log."
      ]
    },
    {
      "cell_type": "code",
      "metadata": {
        "id": "3Hi0Ip3VBKbX",
        "colab": {
          "base_uri": "https://localhost:8080/"
        },
        "outputId": "7c92133c-6f1b-48e9-d2f3-5eddd7076090"
      },
      "source": [
        "# TODO: Replace <FILL IN> with appropriate code\n",
        "# HINT: Do you recall the tips from (3a)? Each of these <FILL IN> could be an transformation or action.\n",
        "\n",
        "hosts = access_logs.map(lambda log:(log.host, 1))\n",
        "uniqueHosts = hosts.reduceByKey(lambda a, b:a + b)\n",
        "uniqueHostCount = uniqueHosts.count()\n",
        "print('Unique hosts: %d' % uniqueHostCount)"
      ],
      "execution_count": 27,
      "outputs": [
        {
          "output_type": "stream",
          "name": "stdout",
          "text": [
            "Unique hosts: 2365\n"
          ]
        }
      ]
    },
    {
      "cell_type": "code",
      "metadata": {
        "id": "MGMSQFEPBKbZ"
      },
      "source": [
        "# TEST Number of unique hosts (3b)\n",
        "Test.assertEqual(uniqueHostCount, 2365, 'incorrect uniqueHostCount')"
      ],
      "execution_count": 23,
      "outputs": []
    },
    {
      "cell_type": "markdown",
      "metadata": {
        "id": "O2Oj9txpBKbd"
      },
      "source": [
        "#### **(3c) Exercise: Number of Unique Hourly Hosts [10 points]**\n",
        "####For an advanced exercise, let's determine the number of unique hosts in the entire log on a hour-by-hour basis. This computation will give us counts of the number of unique hourly hosts. We'd like a list sorted by increasing hour which includes the hour and the associated number of unique hosts for that hour. Make sure you cache the resulting RDD `hourlyHosts` so that we can reuse it in the next exercise.\n",
        " \n",
        "####Think about the steps that you need to perform to count the number of different hosts that make requests *each* hour.\n",
        "####*Note, the log only covers a single day.*"
      ]
    },
    {
      "cell_type": "code",
      "metadata": {
        "id": "vkkw6VEjBKbd",
        "colab": {
          "base_uri": "https://localhost:8080/"
        },
        "outputId": "9da6733e-c192-483f-e59c-165421fa3770"
      },
      "source": [
        "# TODO: Replace <FILL IN> with appropriate code\n",
        "\n",
        "hourToHostPairTuple = access_logs.map(lambda log : (log.date_time.hour, log.host)) # find the hour and host\n",
        "# print(hourToHostPairTuple.collect())\n",
        "uniqueHourToHostPairTuple = hourToHostPairTuple.distinct() # make unique hourly hosts\n",
        "#  print(uniqueHourToHostPairTuple.collect())\n",
        "uniqueCounts = uniqueHourToHostPairTuple.map(lambda x:(x[0], 1)) # change the host to 1 for each tuple\n",
        "# print(uniqueCounts.collect())\n",
        "hourlyHosts = uniqueCounts.reduceByKey(lambda a, b: a + b).sortByKey().cache()\n",
        "# print(hourlyHosts.collect())\n",
        "\n",
        "hourlyHostsList = hourlyHosts.take(30)\n",
        "print('Unique hosts per hour: %s' % hourlyHostsList)"
      ],
      "execution_count": 45,
      "outputs": [
        {
          "output_type": "stream",
          "name": "stdout",
          "text": [
            "Unique hosts per hour: [(6, 115), (7, 123), (8, 95), (9, 114), (10, 114), (11, 177), (12, 279), (13, 343), (14, 415), (15, 397), (16, 444), (17, 357), (18, 273)]\n"
          ]
        }
      ]
    },
    {
      "cell_type": "code",
      "metadata": {
        "id": "w53Bo3MKBKbf"
      },
      "source": [
        "# TEST Number of unique daily hosts (3c)\n",
        "Test.assertEqual(hourlyHosts.count(), 13, 'incorrect hourlyHosts.count()')\n",
        "Test.assertEqual(hourlyHostsList, [(6, 115), (7, 123), (8, 95), (9, 114), (10, 114), (11, 177), (12, 279), (13, 343), (14, 415), (15, 397), (16, 444), (17, 357), (18, 273)], 'incorrect hourlyHostsList')\n",
        "Test.assertTrue(hourlyHosts.is_cached, 'incorrect hourlyHosts.is_cached')"
      ],
      "execution_count": 46,
      "outputs": []
    },
    {
      "cell_type": "markdown",
      "metadata": {
        "id": "vWOLuROA_J9g"
      },
      "source": [
        "#### **(3d) Challenge: Find How Much Data was from images [15 points]**\n",
        "####For a challenge, let's determine the amount of data sent from the server to hosts that was due to images and compare it to the amount of data sent for everything else. This computation gives us an idea about whether we should more aggressively downsample or compress the images on our website so that we reduce the amount of data we send."
      ]
    },
    {
      "cell_type": "code",
      "metadata": {
        "id": "q3Is7KFM_KaY"
      },
      "source": [
        "import os\n",
        "def get_extension(fullpath):\n",
        "  \"\"\"\n",
        "  Returns just the extension of the full path.\n",
        "  For example, '/path/to/somefile.ext' -> '.ext'\n",
        "  \"\"\"\n",
        "  filename, file_extension = os.path.splitext(fullpath)\n",
        "  return file_extension\n",
        "\n",
        "#common image types\n",
        "IMAGES = {'.ras', '.xwd', '.bmp', '.jpe', '.jpg', '.jpeg', '.xpm', '.ief', '.pbm', '.tif', '.gif', '.ppm', '.xbm', '.tiff', '.rgb', '.pgm', '.png', '.pnm'}\n",
        "\n",
        "# you need to fully structure code (multiple lines) here\n",
        "notimage = access_logs.filter(lambda log:get_extension(log.endpoint) not in IMAGES)\n",
        "image = access_logs.filter(lambda log:get_extension(log.endpoint) in IMAGES)\n",
        "\n",
        "nonImageBytes = notimage.map(lambda x:x.content_size).sum()\n",
        "imageBytes = image.map(lambda x:x.content_size).sum()"
      ],
      "execution_count": 54,
      "outputs": []
    },
    {
      "cell_type": "code",
      "metadata": {
        "id": "XWeQs-RQvVJ6",
        "colab": {
          "base_uri": "https://localhost:8080/"
        },
        "outputId": "99a3e004-57ac-411f-f3cf-d52de01e7f24"
      },
      "source": [
        "print('Non image total bytes sent: %s' % nonImageBytes)\n",
        "print('Image total bytes sent: %s' % imageBytes)\n",
        "Test.assertEqual(nonImageBytes, 248771434, 'incorrect nonImageBytes')\n",
        "Test.assertEqual(imageBytes, 233229033, 'imageBytes')\n"
      ],
      "execution_count": 55,
      "outputs": [
        {
          "output_type": "stream",
          "name": "stdout",
          "text": [
            "Non image total bytes sent: 248771434\n",
            "Image total bytes sent: 233229033\n"
          ]
        }
      ]
    },
    {
      "cell_type": "markdown",
      "metadata": {
        "id": "P_dceZ8jBKbx"
      },
      "source": [
        "### **Part 4: Exploring 404 Response Codes**\n",
        " \n",
        "####Let's drill down and explore the error 404 response code records. 404 errors are returned when an endpoint is not found by the server (i.e., a missing page or object)."
      ]
    },
    {
      "cell_type": "markdown",
      "metadata": {
        "id": "i4PXN7R9BKbx"
      },
      "source": [
        "#### **(4a) Exercise: Counting 404 Response Codes [10 points]**\n",
        "#### Create a RDD containing only log records with a 404 response code. Make sure you `cache()` the RDD `badRecords` as we will use it in the rest of this exercise.\n",
        " \n",
        "#### How many 404 records are in the log?"
      ]
    },
    {
      "cell_type": "code",
      "metadata": {
        "id": "2TaYATR-BKby",
        "colab": {
          "base_uri": "https://localhost:8080/"
        },
        "outputId": "112eaecd-1a3f-4cd8-8f1b-8fe272a22efa"
      },
      "source": [
        "# TODO: Replace <FILL IN> with appropriate code\n",
        "\n",
        "badRecords = (access_logs\n",
        "              .filter(lambda log:log.response_code == 404))\n",
        "badRecords.cache()\n",
        "print('Found %d 404 URLs' % badRecords.count())"
      ],
      "execution_count": 56,
      "outputs": [
        {
          "output_type": "stream",
          "name": "stdout",
          "text": [
            "Found 221 404 URLs\n"
          ]
        }
      ]
    },
    {
      "cell_type": "code",
      "metadata": {
        "id": "Z4W92gXeBKb0"
      },
      "source": [
        "# TEST Counting 404 (4a)\n",
        "Test.assertEqual(badRecords.count(), 221, 'incorrect badRecords.count()')\n",
        "Test.assertTrue(badRecords.is_cached, 'incorrect badRecords.is_cached')"
      ],
      "execution_count": 57,
      "outputs": []
    },
    {
      "cell_type": "markdown",
      "metadata": {
        "id": "g-LYkhEFBKb2"
      },
      "source": [
        "#### **(4b) Exercise: Listing 404 Response Code Records [10 points]**\n",
        "####Using the RDD containing only log records with a 404 response code that you cached in part (4a), print out a list up to 40 **distinct** endpoints that generate 404 errors -  *no endpoint should appear more than once in your list.*"
      ]
    },
    {
      "cell_type": "code",
      "metadata": {
        "id": "_wGGENWzBKb3",
        "colab": {
          "base_uri": "https://localhost:8080/"
        },
        "outputId": "2c002a49-ff66-4553-9419-57233192cc29"
      },
      "source": [
        "# TODO: Replace <FILL IN> with appropriate code\n",
        "\n",
        "badEndpoints = badRecords.map(lambda log:(log.endpoint, 1))\n",
        "\n",
        "badUniqueEndpoints = badEndpoints.distinct()\n",
        "\n",
        "badUniqueEndpointsPick40 = badUniqueEndpoints.take(40)\n",
        "print('404 URLS: %s' % badUniqueEndpointsPick40)"
      ],
      "execution_count": 67,
      "outputs": [
        {
          "output_type": "stream",
          "name": "stdout",
          "text": [
            "404 URLS: [('/pub/winvn/readme.txt', 1), ('/pub/winvn/release.txt', 1), ('/ksc.htm1', 1), ('/elv/DELTA/uncons.htm', 1), ('/history/apollo/images/little-joe.jpg', 1), ('/persons/astronauts/thagar.html', 1), ('/shuttle/resources/orbiters/discovery.gif', 1), ('/IUMA/lib/IUMA-title.gif', 1), ('/shuttle/missions/sts-63/sts-63-press-kit.tx', 1), ('/ksc/html', 1), ('/\\\\\\\\yahoo.com', 1), ('/MDSS/', 1), ('/M/on-this-day', 1), ('/history/apollo/sa-1/sa-1-patch-small.gif', 1), ('/history/apollo/sa-1/movies/', 1), ('/history/apollo/sa-9/sa-9-patch-small.gif', 1), ('/shuttle/missions/technology/sts-newsref/stsref-toc.html', 1), ('/missions/missions.html', 1), ('/shuttle/technology/images/sts-comm-small.gif', 1), ('/pub', 1), ('/usopenofsurfing.com/florida', 1), ('/images/spaceport-logo.gif', 1), ('/shuttle/missioins/sts-70/movies/', 1), ('/ksclogo.gif', 1), ('/.ksc.nasa.gov/images/ksclogo.gif', 1), ('/shuttle/missions/sts-69/images/KSC-95EC-0768.gif', 1), ('/shuttle/missions/sts-69/images/KSC-95EC-0585.gif', 1), ('/payloads/systems.html', 1), ('/shuttle/missions/sts-71/images/KSC-95EC-0916.txt', 1), ('/shuttle/missions/sts-71/count.gif', 1), ('/history/apollo/sa-5/movies/', 1), ('/APOLLO-13.HTML', 1), ('/HISTORY', 1), ('/HISTORY/APOLLO', 1), ('/shuttle/countdown/aa.html', 1), ('/pub/winvn', 1), ('/shuttle/countdown/ac.html', 1), ('/shuttle/resources/orbiters/atlantis.gif', 1), ('/history/apollo/html', 1), ('/images/Nasa-logo.gif', 1)]\n"
          ]
        }
      ]
    },
    {
      "cell_type": "code",
      "metadata": {
        "id": "XABzm7jPBKb4"
      },
      "source": [
        "# TEST Listing 404 records (4b)\n",
        "\n",
        "badUniqueEndpointsSet40 = set(badUniqueEndpointsPick40)\n",
        "Test.assertEqual(len(badUniqueEndpointsSet40), 40, 'badUniqueEndpointsPick40 not distinct')"
      ],
      "execution_count": 68,
      "outputs": []
    },
    {
      "cell_type": "markdown",
      "metadata": {
        "id": "QGHUgVjRBKb6"
      },
      "source": [
        "\n",
        "\n",
        "#### **(4c) Exercise: Listing the Top Twenty 404 Response Code Endpoints [10 points]**\n",
        "####Using the RDD containing only log records with a 404 response code that you cached in part (4a), print out a list of the top twenty endpoints that generate the most 404 errors.\n",
        "####*Remember, top endpoints should be in sorted order*"
      ]
    },
    {
      "cell_type": "code",
      "metadata": {
        "id": "xwXlPWLvBKb7",
        "colab": {
          "base_uri": "https://localhost:8080/"
        },
        "outputId": "4346d81d-c662-4f82-fc96-2e039baf6e33"
      },
      "source": [
        "# TODO: Replace <FILL IN> with appropriate code\n",
        "\n",
        "badEndpointsCountPairTuple = badRecords.map(lambda log:(log.endpoint, 1))\n",
        "\n",
        "badEndpointsSum = badEndpointsCountPairTuple.reduceByKey(lambda a, b : a + b)\n",
        "# print(badEndpointsSum.collect())\n",
        "\n",
        "badEndpointsTop20 = badEndpointsSum.sortBy(lambda x:x[1], False).take(20)\n",
        "# print(badEndpointsTop20.collect())\n",
        "print('Top Twenty 404 URLs: %s' % badEndpointsTop20)"
      ],
      "execution_count": 92,
      "outputs": [
        {
          "output_type": "stream",
          "name": "stdout",
          "text": [
            "Top Twenty 404 URLs: [('/images/Nasa-logo.gif', 79), ('/pub/winvn/readme.txt', 14), ('/pub/winvn/release.txt', 12), ('/elv/DELTA/uncons.htm', 10), ('/M/on-this-day', 6), ('/shuttle/missions/STS-69/images/index69.gif', 4), ('/history/apollo/sa-1/sa-1-patch-small.gif', 4), ('/pub', 4), ('/shuttle/resources/orbiters/atlantis.gif', 3), ('/shuttle/resources/orbiters/discovery.gif', 3), ('/history/apollo/sa-9/sa-9-patch-small.gif', 3), ('/shuttle/technology/images/sts-comm-small.gif', 3), ('/nasa/nasa_hottopics.html', 2), ('/people/nasa-cm/jmd.html', 2), ('/shuttle/technology/sts_newsreflsts_ovcomm.html', 2), ('/elv/new01.gif', 2), ('/shuttle/technology/sts-newsref/spacelab', 2), ('/shuttle/missions/sts-68/ksc-upclose.gif', 2), ('/ksc.html0.', 2), ('/://spacelink.msfc.nasa.gov', 2)]\n"
          ]
        }
      ]
    },
    {
      "cell_type": "code",
      "metadata": {
        "id": "4apaQRHvBKb9"
      },
      "source": [
        "# TEST Top twenty 404 URLs (4c)\n",
        "Test.assertEqual(badEndpointsTop20, [('/images/Nasa-logo.gif', 79), ('/pub/winvn/readme.txt', 14), ('/pub/winvn/release.txt', 12), ('/elv/DELTA/uncons.htm', 10), ('/M/on-this-day', 6), ('/shuttle/missions/STS-69/images/index69.gif', 4), ('/history/apollo/sa-1/sa-1-patch-small.gif', 4), ('/pub', 4), ('/shuttle/resources/orbiters/atlantis.gif', 3), ('/shuttle/resources/orbiters/discovery.gif', 3), ('/history/apollo/sa-9/sa-9-patch-small.gif', 3), ('/shuttle/technology/images/sts-comm-small.gif', 3), ('/nasa/nasa_hottopics.html', 2), ('/people/nasa-cm/jmd.html', 2), ('/shuttle/technology/sts_newsreflsts_ovcomm.html', 2), ('/elv/new01.gif', 2), ('/shuttle/technology/sts-newsref/spacelab', 2), ('/shuttle/missions/sts-68/ksc-upclose.gif', 2), ('/ksc.html0.', 2), ('/://spacelink.msfc.nasa.gov', 2)])"
      ],
      "execution_count": 93,
      "outputs": []
    },
    {
      "cell_type": "markdown",
      "metadata": {
        "id": "0AkRKAlh7JQ2"
      },
      "source": [
        "#### **(4d) Challenge: Find Case Sensitive 404s [15 points]**\n",
        "####For a challenge, let's determine which page requests were for pages that are on the server (pages whose response code was a successful 200) but were requested incorrectly because of letter case sensitivity. For example, requesting '/images/Nasa-logo.gif' instead of '/images/nasa-logo.gif' would result in a 404 error because a file with the image would fail to be found with a capital N. This could give us debugging information for how to fix a different web page that incorrectly referenced '/images/Nasa-logo.gif'.\n"
      ]
    },
    {
      "cell_type": "code",
      "metadata": {
        "id": "TBGgiHjl7ScE"
      },
      "source": [
        "# you need to fully structure code (multiple lines) here\n",
        "# HINT: you should use two RDDs together\n",
        "\n",
        "code200 = access_logs.filter(lambda log:log.response_code != 404)\n",
        "# print(code200.collect())\n",
        "endpoints200 = code200.map(lambda log: log.endpoint.lower()).sortBy(lambda log:log).distinct()\n",
        "# print(endpoints200.collect())\n",
        "suceed = endpoints200.collect()\n",
        "# print(suceed)\n",
        "lowerBadRecord = badRecords.map(lambda log: log.endpoint.lower()).sortBy(lambda log:log).distinct()\n",
        "\n",
        "def check(a, b):\n",
        "  \"\"\"\n",
        "  a is successful but b is 404 error\n",
        "  \"\"\"\n",
        "  result = 0\n",
        "  for bb in b:\n",
        "    if a == bb:\n",
        "      result += 1\n",
        "  return result\n",
        "\n",
        "caseSensitive404s = lowerBadRecord.filter(lambda log:check(log, suceed) == 1).sortBy(lambda log:log)\n",
        "# print(caseSensitive404s.collect())\n"
      ],
      "execution_count": 135,
      "outputs": []
    },
    {
      "cell_type": "code",
      "metadata": {
        "id": "NukJAYZ6xGlP"
      },
      "source": [
        "Test.assertEqual(caseSensitive404s.collect(), ['/elv/new01.gif', '/history', '/history/apollo', '/history/apollo/apollo-13/apollo-13.html', '/images/nasa-logo.gif', '/mdss/', '/shuttle/missions/sts-69/images/index69.gif', '/shuttle/missions/sts-71/count71.gif'],\n",
        "                 'incorrect case sensitive 404s')"
      ],
      "execution_count": 136,
      "outputs": []
    }
  ]
}